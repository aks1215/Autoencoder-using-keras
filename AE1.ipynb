{
  "cells": [
    {
      "cell_type": "code",
      "execution_count": null,
      "metadata": {
        "colab": {
          "base_uri": "https://localhost:8080/"
        },
        "id": "a-CClZcUdNPn",
        "outputId": "08b8df6d-4893-4d91-daa7-513672d8bac7"
      },
      "outputs": [
        {
          "output_type": "stream",
          "name": "stdout",
          "text": [
            "Downloading data from https://storage.googleapis.com/tensorflow/tf-keras-datasets/mnist.npz\n",
            "11490434/11490434 [==============================] - 0s 0us/step\n",
            "(60000, 28, 28)\n",
            "(10000, 28, 28)\n"
          ]
        }
      ],
      "source": [
        "from keras.datasets import mnist\n",
        "import numpy as np\n",
        "(train_images,__),(test_images,_)=mnist.load_data()\n",
        "print(train_images.shape)\n",
        "print(test_images.shape)"
      ]
    },
    {
      "cell_type": "code",
      "execution_count": null,
      "metadata": {
        "colab": {
          "base_uri": "https://localhost:8080/",
          "height": 430
        },
        "id": "9CoZfx7qebEo",
        "outputId": "0be4ae22-3914-4304-c601-39541dc68e9d"
      },
      "outputs": [
        {
          "output_type": "display_data",
          "data": {
            "text/plain": [
              "<Figure size 640x480 with 1 Axes>"
            ],
            "image/png": "[encoded data removed]"
          },
          "metadata": {}
        }
      ],
      "source": [
        "import matplotlib.pyplot as plt\n",
        "plt.imshow(test_images[0].reshape(28,28))\n",
        "plt.gray()"
      ]
    },
    {
      "cell_type": "code",
      "source": [
        "train_images=train_images.astype('float32')/255.\n",
        "test_images=test_images.astype('float32')/255."
      ],
      "metadata": {
        "id": "2XVnRj4u7TZX"
      },
      "execution_count": null,
      "outputs": []
    },
    {
      "cell_type": "code",
      "execution_count": null,
      "metadata": {
        "colab": {
          "base_uri": "https://localhost:8080/"
        },
        "id": "b3c4-P_UevlT",
        "outputId": "1ef38b1a-1b06-49fe-ab82-87d9bb95e767"
      },
      "outputs": [
        {
          "output_type": "stream",
          "name": "stdout",
          "text": [
            "(60000, 784)\n",
            "(60000, 784)\n"
          ]
        }
      ],
      "source": [
        "train_images=train_images.reshape((len(train_images),np.prod(train_images.shape[1:])))\n",
        "test_images=test_images.reshape((len(test_images),np.prod(test_images.shape[1:])))\n",
        "print(train_images.shape)\n",
        "print(train_images.shape)"
      ]
    },
    {
      "cell_type": "code",
      "execution_count": null,
      "metadata": {
        "colab": {
          "base_uri": "https://localhost:8080/"
        },
        "id": "gJHE4ctVfedn",
        "outputId": "5bf101f9-3bcd-441f-b8fc-4572e8163b70"
      },
      "outputs": [
        {
          "output_type": "stream",
          "name": "stdout",
          "text": [
            "Model: \"model\"\n",
            "_________________________________________________________________\n",
            " Layer (type)                Output Shape              Param #   \n",
            "=================================================================\n",
            " input_1 (InputLayer)        [(None, 784)]             0         \n",
            "                                                                 \n",
            " dense (Dense)               (None, 32)                25120     \n",
            "                                                                 \n",
            " dense_1 (Dense)             (None, 784)               25872     \n",
            "                                                                 \n",
            "=================================================================\n",
            "Total params: 50992 (199.19 KB)\n",
            "Trainable params: 50992 (199.19 KB)\n",
            "Non-trainable params: 0 (0.00 Byte)\n",
            "_________________________________________________________________\n"
          ]
        }
      ],
      "source": [
        "from keras.layers import Input,Dense\n",
        "from keras.models import Model\n",
        "encoding_dim=32\n",
        "input_layer=Input(shape=(784,))\n",
        "encoder_layer1=Dense(encoding_dim,activation='relu')(input_layer)\n",
        "decoder_layer=Dense(784,activation='sigmoid')(encoder_layer1)\n",
        "autoencoder=Model(input_layer,decoder_layer)\n",
        "autoencoder.summary()"
      ]
    },
    {
      "cell_type": "code",
      "execution_count": null,
      "metadata": {
        "id": "CEnnGfDAgUs7"
      },
      "outputs": [],
      "source": [
        "encoder=Model(input_layer,encoder_layer1)\n",
        "encoded_input=Input(shape=(encoding_dim,))\n",
        "decoder_layer=autoencoder.layers[-1]\n",
        "decoder=Model(encoded_input,decoder_layer(encoded_input))"
      ]
    },
    {
      "cell_type": "code",
      "execution_count": 25,
      "metadata": {
        "id": "T-rfw60Qg3qY"
      },
      "outputs": [],
      "source": [
        "autoencoder.compile(optimizer='adam',loss='binary_crossentropy')"
      ]
    },
    {
      "cell_type": "code",
      "execution_count": 26,
      "metadata": {
        "colab": {
          "base_uri": "https://localhost:8080/"
        },
        "id": "lmZp44l7hE72",
        "outputId": "9a279d1d-4009-441c-bcb3-bc00ec1c8688"
      },
      "outputs": [
        {
          "output_type": "stream",
          "name": "stdout",
          "text": [
            "Epoch 1/60\n",
            "235/235 [==============================] - 3s 10ms/step - loss: 0.2562 - val_loss: 0.1824\n",
            "Epoch 2/60\n",
            "235/235 [==============================] - 2s 9ms/step - loss: 0.1655 - val_loss: 0.1490\n",
            "Epoch 3/60\n",
            "235/235 [==============================] - 2s 9ms/step - loss: 0.1405 - val_loss: 0.1307\n",
            "Epoch 4/60\n",
            "235/235 [==============================] - 2s 9ms/step - loss: 0.1262 - val_loss: 0.1192\n",
            "Epoch 5/60\n",
            "235/235 [==============================] - 3s 13ms/step - loss: 0.1163 - val_loss: 0.1109\n",
            "Epoch 6/60\n",
            "235/235 [==============================] - 2s 9ms/step - loss: 0.1091 - val_loss: 0.1050\n",
            "Epoch 7/60\n",
            "235/235 [==============================] - 2s 9ms/step - loss: 0.1040 - val_loss: 0.1008\n",
            "Epoch 8/60\n",
            "235/235 [==============================] - 2s 9ms/step - loss: 0.1005 - val_loss: 0.0979\n",
            "Epoch 9/60\n",
            "235/235 [==============================] - 2s 9ms/step - loss: 0.0982 - val_loss: 0.0959\n",
            "Epoch 10/60\n",
            "235/235 [==============================] - 2s 9ms/step - loss: 0.0966 - val_loss: 0.0947\n",
            "Epoch 11/60\n",
            "235/235 [==============================] - 3s 12ms/step - loss: 0.0957 - val_loss: 0.0939\n",
            "Epoch 12/60\n",
            "235/235 [==============================] - 2s 9ms/step - loss: 0.0950 - val_loss: 0.0935\n",
            "Epoch 13/60\n",
            "235/235 [==============================] - 2s 9ms/step - loss: 0.0946 - val_loss: 0.0931\n",
            "Epoch 14/60\n",
            "235/235 [==============================] - 2s 9ms/step - loss: 0.0943 - val_loss: 0.0928\n",
            "Epoch 15/60\n",
            "235/235 [==============================] - 2s 9ms/step - loss: 0.0940 - val_loss: 0.0927\n",
            "Epoch 16/60\n",
            "235/235 [==============================] - 3s 11ms/step - loss: 0.0939 - val_loss: 0.0925\n",
            "Epoch 17/60\n",
            "235/235 [==============================] - 3s 15ms/step - loss: 0.0937 - val_loss: 0.0924\n",
            "Epoch 18/60\n",
            "235/235 [==============================] - 2s 10ms/step - loss: 0.0936 - val_loss: 0.0923\n",
            "Epoch 19/60\n",
            "235/235 [==============================] - 2s 9ms/step - loss: 0.0935 - val_loss: 0.0922\n",
            "Epoch 20/60\n",
            "235/235 [==============================] - 2s 9ms/step - loss: 0.0934 - val_loss: 0.0921\n",
            "Epoch 21/60\n",
            "235/235 [==============================] - 2s 9ms/step - loss: 0.0933 - val_loss: 0.0921\n",
            "Epoch 22/60\n",
            "235/235 [==============================] - 3s 13ms/step - loss: 0.0933 - val_loss: 0.0920\n",
            "Epoch 23/60\n",
            "235/235 [==============================] - 4s 17ms/step - loss: 0.0932 - val_loss: 0.0920\n",
            "Epoch 24/60\n",
            "235/235 [==============================] - 4s 18ms/step - loss: 0.0932 - val_loss: 0.0919\n",
            "Epoch 25/60\n",
            "235/235 [==============================] - 5s 23ms/step - loss: 0.0931 - val_loss: 0.0919\n",
            "Epoch 26/60\n",
            "235/235 [==============================] - 3s 13ms/step - loss: 0.0931 - val_loss: 0.0919\n",
            "Epoch 27/60\n",
            "235/235 [==============================] - 2s 9ms/step - loss: 0.0930 - val_loss: 0.0918\n",
            "Epoch 28/60\n",
            "235/235 [==============================] - 2s 9ms/step - loss: 0.0930 - val_loss: 0.0918\n",
            "Epoch 29/60\n",
            "235/235 [==============================] - 2s 10ms/step - loss: 0.0930 - val_loss: 0.0918\n",
            "Epoch 30/60\n",
            "235/235 [==============================] - 3s 13ms/step - loss: 0.0929 - val_loss: 0.0918\n",
            "Epoch 31/60\n",
            "235/235 [==============================] - 2s 9ms/step - loss: 0.0929 - val_loss: 0.0917\n",
            "Epoch 32/60\n",
            "235/235 [==============================] - 2s 9ms/step - loss: 0.0929 - val_loss: 0.0918\n",
            "Epoch 33/60\n",
            "235/235 [==============================] - 2s 9ms/step - loss: 0.0928 - val_loss: 0.0917\n",
            "Epoch 34/60\n",
            "235/235 [==============================] - 3s 11ms/step - loss: 0.0928 - val_loss: 0.0917\n",
            "Epoch 35/60\n",
            "235/235 [==============================] - 5s 19ms/step - loss: 0.0928 - val_loss: 0.0916\n",
            "Epoch 36/60\n",
            "235/235 [==============================] - 4s 16ms/step - loss: 0.0928 - val_loss: 0.0917\n",
            "Epoch 37/60\n",
            "235/235 [==============================] - 2s 10ms/step - loss: 0.0928 - val_loss: 0.0917\n",
            "Epoch 38/60\n",
            "235/235 [==============================] - 2s 9ms/step - loss: 0.0927 - val_loss: 0.0916\n",
            "Epoch 39/60\n",
            "235/235 [==============================] - 3s 12ms/step - loss: 0.0927 - val_loss: 0.0917\n",
            "Epoch 40/60\n",
            "235/235 [==============================] - 2s 9ms/step - loss: 0.0927 - val_loss: 0.0916\n",
            "Epoch 41/60\n",
            "235/235 [==============================] - 2s 9ms/step - loss: 0.0927 - val_loss: 0.0915\n",
            "Epoch 42/60\n",
            "235/235 [==============================] - 2s 9ms/step - loss: 0.0927 - val_loss: 0.0916\n",
            "Epoch 43/60\n",
            "235/235 [==============================] - 2s 9ms/step - loss: 0.0927 - val_loss: 0.0916\n",
            "Epoch 44/60\n",
            "235/235 [==============================] - 2s 10ms/step - loss: 0.0926 - val_loss: 0.0916\n",
            "Epoch 45/60\n",
            "235/235 [==============================] - 3s 12ms/step - loss: 0.0926 - val_loss: 0.0915\n",
            "Epoch 46/60\n",
            "235/235 [==============================] - 2s 9ms/step - loss: 0.0926 - val_loss: 0.0916\n",
            "Epoch 47/60\n",
            "235/235 [==============================] - 3s 14ms/step - loss: 0.0926 - val_loss: 0.0915\n",
            "Epoch 48/60\n",
            "235/235 [==============================] - 4s 18ms/step - loss: 0.0926 - val_loss: 0.0915\n",
            "Epoch 49/60\n",
            "235/235 [==============================] - 3s 12ms/step - loss: 0.0926 - val_loss: 0.0915\n",
            "Epoch 50/60\n",
            "235/235 [==============================] - 2s 10ms/step - loss: 0.0926 - val_loss: 0.0915\n",
            "Epoch 51/60\n",
            "235/235 [==============================] - 2s 10ms/step - loss: 0.0926 - val_loss: 0.0915\n",
            "Epoch 52/60\n",
            "235/235 [==============================] - 2s 9ms/step - loss: 0.0926 - val_loss: 0.0915\n",
            "Epoch 53/60\n",
            "235/235 [==============================] - 2s 10ms/step - loss: 0.0926 - val_loss: 0.0914\n",
            "Epoch 54/60\n",
            "235/235 [==============================] - 3s 13ms/step - loss: 0.0925 - val_loss: 0.0915\n",
            "Epoch 55/60\n",
            "235/235 [==============================] - 2s 10ms/step - loss: 0.0925 - val_loss: 0.0915\n",
            "Epoch 56/60\n",
            "235/235 [==============================] - 2s 10ms/step - loss: 0.0925 - val_loss: 0.0915\n",
            "Epoch 57/60\n",
            "235/235 [==============================] - 2s 10ms/step - loss: 0.0925 - val_loss: 0.0915\n",
            "Epoch 58/60\n",
            "235/235 [==============================] - 2s 9ms/step - loss: 0.0925 - val_loss: 0.0915\n",
            "Epoch 59/60\n",
            "235/235 [==============================] - 3s 14ms/step - loss: 0.0925 - val_loss: 0.0914\n",
            "Epoch 60/60\n",
            "235/235 [==============================] - 4s 15ms/step - loss: 0.0925 - val_loss: 0.0915\n"
          ]
        },
        {
          "output_type": "execute_result",
          "data": {
            "text/plain": [
              "<keras.src.callbacks.History at 0x7d91436baf80>"
            ]
          },
          "metadata": {},
          "execution_count": 26
        }
      ],
      "source": [
        "\n",
        "autoencoder.fit(train_images,train_images,\n",
        "epochs=60,\n",
        "batch_size=256,\n",
        "shuffle=True,\n",
        "validation_data=(test_images,test_images))"
      ]
    },
    {
      "cell_type": "code",
      "source": [
        "encoded_imgs=encoder.predict(test_images)\n",
        "print(encoded_imgs.shape)"
      ],
      "metadata": {
        "colab": {
          "base_uri": "https://localhost:8080/"
        },
        "id": "8p-9jJYpWj3z",
        "outputId": "efa451c4-dd1b-4e53-cf32-b2aba1b787f3"
      },
      "execution_count": 27,
      "outputs": [
        {
          "output_type": "stream",
          "name": "stdout",
          "text": [
            "313/313 [==============================] - 1s 2ms/step\n",
            "(10000, 32)\n"
          ]
        }
      ]
    },
    {
      "cell_type": "code",
      "source": [
        "decoded_imgs=decoder.predict(encoded_imgs)\n",
        "print(decoded_imgs.shape)"
      ],
      "metadata": {
        "colab": {
          "base_uri": "https://localhost:8080/"
        },
        "id": "Z6N2GkMuWkIZ",
        "outputId": "07e90503-48e7-4784-858e-2a7858c3ebc9"
      },
      "execution_count": 28,
      "outputs": [
        {
          "output_type": "stream",
          "name": "stdout",
          "text": [
            "313/313 [==============================] - 1s 2ms/step\n",
            "(10000, 784)\n"
          ]
        }
      ]
    },
    {
      "cell_type": "code",
      "source": [
        "import matplotlib.pyplot as plt\n",
        "\n",
        "n = 10  # How many digits we will display\n",
        "plt.figure(figsize=(20, 4))\n",
        "for i in range(n):\n",
        "    # Display original\n",
        "    ax = plt.subplot(2, n, i + 1)\n",
        "    plt.imshow(test_images[i].reshape(28, 28))\n",
        "    plt.gray()\n",
        "    ax.get_xaxis().set_visible(False)\n",
        "    ax.get_yaxis().set_visible(False)\n",
        "\n",
        "    # Display reconstruction\n",
        "    ax = plt.subplot(2, n, i + 1 + n)\n",
        "    plt.imshow(decoded_imgs[i].reshape(28, 28))\n",
        "    plt.gray()\n",
        "    ax.get_xaxis().set_visible(False)\n",
        "    ax.get_yaxis().set_visible(False)\n",
        "plt.show()"
      ],
      "metadata": {
        "colab": {
          "base_uri": "https://localhost:8080/",
          "height": 229
        },
        "id": "O-JUogkZXx0i",
        "outputId": "ffbf835c-3a43-4133-9ff2-26aec7415336"
      },
      "execution_count": 29,
      "outputs": [
        {
          "output_type": "display_data",
          "data": {
            "text/plain": [
              "<Figure size 2000x400 with 20 Axes>"
            ],
            "image/png": "[encoded data removed]"
          },
          "metadata": {}
        }
      ]
    }
  ],
  "metadata": {
    "colab": {
      "provenance": []
    },
    "kernelspec": {
      "display_name": "Python 3",
      "name": "python3"
    },
    "language_info": {
      "name": "python"
    }
  },
  "nbformat": 4,
  "nbformat_minor": 0
}